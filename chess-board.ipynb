{
 "cells": [
  {
   "cell_type": "code",
   "execution_count": 1,
   "metadata": {},
   "outputs": [],
   "source": [
    "import numpy"
   ]
  },
  {
   "cell_type": "code",
   "execution_count": 2,
   "metadata": {},
   "outputs": [],
   "source": [
    "import cv2"
   ]
  },
  {
   "cell_type": "code",
   "execution_count": 3,
   "metadata": {},
   "outputs": [],
   "source": [
    "cn=numpy.zeros((800,800,3))"
   ]
  },
  {
   "cell_type": "code",
   "execution_count": 4,
   "metadata": {},
   "outputs": [],
   "source": [
    "p=0\n",
    "q=100\n",
    "while p<700:\n",
    "    for x in range(p,q):\n",
    "        a=0\n",
    "        b=100\n",
    "        while a<800:\n",
    "            for y in range(a,b):\n",
    "                cn[x][y]=[255,255,255]\n",
    "            a+=200\n",
    "            b+=200\n",
    "            \n",
    "    p+=200\n",
    "    q+=200"
   ]
  },
  {
   "cell_type": "code",
   "execution_count": 5,
   "metadata": {},
   "outputs": [],
   "source": [
    "p=100\n",
    "q=200\n",
    "while p<800:\n",
    "    for x in range(p,q):\n",
    "        a=100\n",
    "        b=200\n",
    "        while a<800:\n",
    "            for y in range(a,b):\n",
    "                cn[x][y]=[255,255,255]\n",
    "            a+=200\n",
    "            b+=200\n",
    "            \n",
    "    p+=200\n",
    "    q+=200"
   ]
  },
  {
   "cell_type": "code",
   "execution_count": 6,
   "metadata": {},
   "outputs": [],
   "source": [
    "cv2.imshow(\"chess_board\",cn)\n",
    "cv2.waitKey()\n",
    "cv2.destroyAllWindows()"
   ]
  },
  {
   "cell_type": "code",
   "execution_count": null,
   "metadata": {},
   "outputs": [],
   "source": []
  }
 ],
 "metadata": {
  "kernelspec": {
   "display_name": "Python 3",
   "language": "python",
   "name": "python3"
  },
  "language_info": {
   "codemirror_mode": {
    "name": "ipython",
    "version": 3
   },
   "file_extension": ".py",
   "mimetype": "text/x-python",
   "name": "python",
   "nbconvert_exporter": "python",
   "pygments_lexer": "ipython3",
   "version": "3.8.3"
  }
 },
 "nbformat": 4,
 "nbformat_minor": 4
}
